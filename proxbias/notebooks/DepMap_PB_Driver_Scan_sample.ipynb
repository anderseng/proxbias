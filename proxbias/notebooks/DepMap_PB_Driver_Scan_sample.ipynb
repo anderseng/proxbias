{
 "cells": [
  {
   "cell_type": "code",
   "execution_count": 1,
   "metadata": {},
   "outputs": [],
   "source": [
    "from proxbias.depmap.process import compute_monte_carlo_stats\n",
    "from proxbias.depmap.load import get_depmap_data\n",
    "from proxbias.utils.data_utils import get_cancer_gene_lists\n",
    "from proxbias.metrics import genome_proximity_bias_score"
   ]
  },
  {
   "cell_type": "code",
   "execution_count": 12,
   "metadata": {},
   "outputs": [],
   "source": [
    "import os\n",
    "import sys\n",
    "\n",
    "import numpy as np\n",
    "import pandas as pd\n",
    "import scipy as sp\n",
    "import pickle\n",
    "import ast\n",
    "\n",
    "import matplotlib.pyplot as plt\n",
    "import seaborn as sns"
   ]
  },
  {
   "cell_type": "code",
   "execution_count": 2,
   "metadata": {},
   "outputs": [
    {
     "name": "stdout",
     "output_type": "stream",
     "text": [
      "CRISPRGeneEffect.csv from DepMap Public 22Q4 is found. Reading dataframe from cache.\n",
      "Done!\n",
      "OmicsCNGene.csv from DepMap Public 22Q4 is found. Reading dataframe from cache.\n",
      "Done!\n",
      "OmicsSomaticMutations.csv from DepMap Public 22Q4 is found. Reading dataframe from cache.\n",
      "Done!\n"
     ]
    }
   ],
   "source": [
    "crispr_effect, _, cnv_data, mutation_data = get_depmap_data(rnai_release=\"\")\n",
    "oncogenes, tsgs = get_cancer_gene_lists(crispr_effect.index)"
   ]
  },
  {
   "cell_type": "code",
   "execution_count": 3,
   "metadata": {},
   "outputs": [
    {
     "name": "stdout",
     "output_type": "stream",
     "text": [
      "Stats for TP53 computed in 181.38685202598572 - diff is 0.025881591000000204, 247 wt and 344 lof\n",
      "CPU times: user 292 ms, sys: 167 ms, total: 459 ms\n",
      "Wall time: 3min 3s\n"
     ]
    }
   ],
   "source": [
    "%%time\n",
    "# Note - n_workers should likely be around half the number of CPUs\n",
    "res = compute_monte_carlo_stats(\n",
    "    genes_of_interest=[\"TP53\"],\n",
    "    dependency_data=crispr_effect,\n",
    "    cnv_data=cnv_data,\n",
    "    mutation_data=mutation_data,\n",
    "    candidate_models=list(crispr_effect.columns),\n",
    "    search_mode=\"lof\",\n",
    "    n_iterations=100,\n",
    "    eval_function=genome_proximity_bias_score,\n",
    "    eval_kwargs={\"n_samples\": 500, \"n_trials\": 200, \"return_samples\": False},\n",
    "    n_workers=4,\n",
    ")"
   ]
  },
  {
   "cell_type": "code",
   "execution_count": 5,
   "metadata": {},
   "outputs": [
    {
     "data": {
      "text/html": [
       "<div>\n",
       "<style scoped>\n",
       "    .dataframe tbody tr th:only-of-type {\n",
       "        vertical-align: middle;\n",
       "    }\n",
       "\n",
       "    .dataframe tbody tr th {\n",
       "        vertical-align: top;\n",
       "    }\n",
       "\n",
       "    .dataframe thead th {\n",
       "        text-align: right;\n",
       "    }\n",
       "</style>\n",
       "<table border=\"1\" class=\"dataframe\">\n",
       "  <thead>\n",
       "    <tr style=\"text-align: right;\">\n",
       "      <th></th>\n",
       "      <th>test_stats</th>\n",
       "      <th>test_mean</th>\n",
       "      <th>wt_stats</th>\n",
       "      <th>wt_mean</th>\n",
       "      <th>diff</th>\n",
       "      <th>search_mode</th>\n",
       "      <th>n_models</th>\n",
       "      <th>n_test</th>\n",
       "      <th>n_wt</th>\n",
       "    </tr>\n",
       "  </thead>\n",
       "  <tbody>\n",
       "    <tr>\n",
       "      <th>TP53</th>\n",
       "      <td>[0.67920954, 0.6675941400000001, 0.66288408, 0...</td>\n",
       "      <td>0.672657</td>\n",
       "      <td>[0.6480423999999999, 0.6497969, 0.64489834, 0....</td>\n",
       "      <td>0.646775</td>\n",
       "      <td>0.025882</td>\n",
       "      <td>lof</td>\n",
       "      <td>197</td>\n",
       "      <td>344</td>\n",
       "      <td>247</td>\n",
       "    </tr>\n",
       "  </tbody>\n",
       "</table>\n",
       "</div>"
      ],
      "text/plain": [
       "                                             test_stats  test_mean  \\\n",
       "TP53  [0.67920954, 0.6675941400000001, 0.66288408, 0...   0.672657   \n",
       "\n",
       "                                               wt_stats   wt_mean      diff  \\\n",
       "TP53  [0.6480423999999999, 0.6497969, 0.64489834, 0....  0.646775  0.025882   \n",
       "\n",
       "     search_mode  n_models  n_test  n_wt  \n",
       "TP53         lof       197     344   247  "
      ]
     },
     "execution_count": 5,
     "metadata": {},
     "output_type": "execute_result"
    }
   ],
   "source": [
    "res.head()"
   ]
  },
  {
   "cell_type": "code",
   "execution_count": 17,
   "metadata": {},
   "outputs": [
    {
     "data": {
      "text/html": [
       "<div>\n",
       "<style scoped>\n",
       "    .dataframe tbody tr th:only-of-type {\n",
       "        vertical-align: middle;\n",
       "    }\n",
       "\n",
       "    .dataframe tbody tr th {\n",
       "        vertical-align: top;\n",
       "    }\n",
       "\n",
       "    .dataframe thead th {\n",
       "        text-align: right;\n",
       "    }\n",
       "</style>\n",
       "<table border=\"1\" class=\"dataframe\">\n",
       "  <thead>\n",
       "    <tr style=\"text-align: right;\">\n",
       "      <th></th>\n",
       "      <th>gene</th>\n",
       "      <th>t_stat</th>\n",
       "      <th>p_value</th>\n",
       "    </tr>\n",
       "  </thead>\n",
       "  <tbody>\n",
       "    <tr>\n",
       "      <th>0</th>\n",
       "      <td>TP53</td>\n",
       "      <td>31.865259</td>\n",
       "      <td>6.997880e-80</td>\n",
       "    </tr>\n",
       "  </tbody>\n",
       "</table>\n",
       "</div>"
      ],
      "text/plain": [
       "   gene     t_stat       p_value\n",
       "0  TP53  31.865259  6.997880e-80"
      ]
     },
     "execution_count": 17,
     "metadata": {},
     "output_type": "execute_result"
    }
   ],
   "source": [
    "from scipy import stats\n",
    "\n",
    "tp53_res = pd.read_csv(\"TP53_lof_bootstrap_results.csv\").rename({\"Unnamed: 0\": \"gene\"}, axis=1)\n",
    "\n",
    "def perform_t_test(df: pd.DataFrame) -> pd.DataFrame:\n",
    "    results = []\n",
    "\n",
    "    for index, row in df.iterrows():\n",
    "        test_stats = row['test_stats']\n",
    "        wt_stats = row['wt_stats']\n",
    "\n",
    "        # Perform the t-test\n",
    "        t_stat, p_value = stats.ttest_ind(test_stats, wt_stats)\n",
    "\n",
    "        # Determine the gene identifier\n",
    "        if 'gene' in df.columns:\n",
    "            gene = row['gene']\n",
    "        else:\n",
    "            gene = index\n",
    "        \n",
    "        # Append results to list\n",
    "        results.append({\n",
    "            'gene': gene,\n",
    "            't_stat': t_stat,\n",
    "            'p_value': p_value\n",
    "        })\n",
    "    \n",
    "    # Convert results to DataFrame\n",
    "    results_df = pd.DataFrame(results)\n",
    "    return results_df\n",
    "\n",
    "ttest=perform_t_test(res)\n",
    "ttest"
   ]
  },
  {
   "cell_type": "code",
   "execution_count": 21,
   "metadata": {},
   "outputs": [
    {
     "data": {
      "text/html": [
       "<div>\n",
       "<style scoped>\n",
       "    .dataframe tbody tr th:only-of-type {\n",
       "        vertical-align: middle;\n",
       "    }\n",
       "\n",
       "    .dataframe tbody tr th {\n",
       "        vertical-align: top;\n",
       "    }\n",
       "\n",
       "    .dataframe thead th {\n",
       "        text-align: right;\n",
       "    }\n",
       "</style>\n",
       "<table border=\"1\" class=\"dataframe\">\n",
       "  <thead>\n",
       "    <tr style=\"text-align: right;\">\n",
       "      <th></th>\n",
       "      <th>VariantInfo</th>\n",
       "      <th>HugoSymbol</th>\n",
       "      <th>ModelID</th>\n",
       "    </tr>\n",
       "  </thead>\n",
       "  <tbody>\n",
       "    <tr>\n",
       "      <th>0</th>\n",
       "      <td>MISSENSE</td>\n",
       "      <td>C1QTNF12</td>\n",
       "      <td>ACH-001841</td>\n",
       "    </tr>\n",
       "    <tr>\n",
       "      <th>1</th>\n",
       "      <td>MISSENSE</td>\n",
       "      <td>CASZ1</td>\n",
       "      <td>ACH-000379</td>\n",
       "    </tr>\n",
       "    <tr>\n",
       "      <th>2</th>\n",
       "      <td>SILENT</td>\n",
       "      <td>CASZ1</td>\n",
       "      <td>ACH-000983</td>\n",
       "    </tr>\n",
       "    <tr>\n",
       "      <th>3</th>\n",
       "      <td>MISSENSE</td>\n",
       "      <td>PRAMEF13</td>\n",
       "      <td>ACH-000960</td>\n",
       "    </tr>\n",
       "    <tr>\n",
       "      <th>4</th>\n",
       "      <td>MISSENSE</td>\n",
       "      <td>PRAMEF18</td>\n",
       "      <td>ACH-002127</td>\n",
       "    </tr>\n",
       "    <tr>\n",
       "      <th>...</th>\n",
       "      <td>...</td>\n",
       "      <td>...</td>\n",
       "      <td>...</td>\n",
       "    </tr>\n",
       "    <tr>\n",
       "      <th>1387890</th>\n",
       "      <td>MISSENSE</td>\n",
       "      <td>F9</td>\n",
       "      <td>ACH-000789</td>\n",
       "    </tr>\n",
       "    <tr>\n",
       "      <th>1387891</th>\n",
       "      <td>SILENT</td>\n",
       "      <td>MAGEC3</td>\n",
       "      <td>ACH-001632</td>\n",
       "    </tr>\n",
       "    <tr>\n",
       "      <th>1387892</th>\n",
       "      <td>MISSENSE</td>\n",
       "      <td>SPANXN3</td>\n",
       "      <td>ACH-000550</td>\n",
       "    </tr>\n",
       "    <tr>\n",
       "      <th>1387893</th>\n",
       "      <td>MISSENSE</td>\n",
       "      <td>MT-ND5</td>\n",
       "      <td>ACH-000913</td>\n",
       "    </tr>\n",
       "    <tr>\n",
       "      <th>1387894</th>\n",
       "      <td>MISSENSE</td>\n",
       "      <td>MT-CYB</td>\n",
       "      <td>ACH-000191</td>\n",
       "    </tr>\n",
       "  </tbody>\n",
       "</table>\n",
       "<p>1387895 rows × 3 columns</p>\n",
       "</div>"
      ],
      "text/plain": [
       "        VariantInfo HugoSymbol     ModelID\n",
       "0          MISSENSE   C1QTNF12  ACH-001841\n",
       "1          MISSENSE      CASZ1  ACH-000379\n",
       "2            SILENT      CASZ1  ACH-000983\n",
       "3          MISSENSE   PRAMEF13  ACH-000960\n",
       "4          MISSENSE   PRAMEF18  ACH-002127\n",
       "...             ...        ...         ...\n",
       "1387890    MISSENSE         F9  ACH-000789\n",
       "1387891      SILENT     MAGEC3  ACH-001632\n",
       "1387892    MISSENSE    SPANXN3  ACH-000550\n",
       "1387893    MISSENSE     MT-ND5  ACH-000913\n",
       "1387894    MISSENSE     MT-CYB  ACH-000191\n",
       "\n",
       "[1387895 rows x 3 columns]"
      ]
     },
     "execution_count": 21,
     "metadata": {},
     "output_type": "execute_result"
    }
   ],
   "source": [
    "import random\n",
    "def scramble_column(df: pd.DataFrame, column_name: str = 'ModelID') -> pd.DataFrame:\n",
    "    scrambled_df = df.copy()\n",
    "    \n",
    "    # Extract the specified column\n",
    "    column_values = scrambled_df[column_name].tolist()\n",
    "    \n",
    "    # Shuffle the column values list\n",
    "    random.shuffle(column_values)\n",
    "    \n",
    "    # Assign the scrambled column values list back to the DataFrame\n",
    "    scrambled_df[column_name] = column_values\n",
    "    \n",
    "    return scrambled_df\n",
    "\n",
    "scrambled_mutation_data  = scramble_column(mutation_data )\n",
    "scrambled_mutation_data"
   ]
  },
  {
   "cell_type": "code",
   "execution_count": 22,
   "metadata": {},
   "outputs": [
    {
     "name": "stdout",
     "output_type": "stream",
     "text": [
      "Stats for TP53 computed in 211.00881266593933 - diff is -0.004651769999999944, 345 wt and 344 lof\n"
     ]
    }
   ],
   "source": [
    "scrambled_res = compute_monte_carlo_stats(\n",
    "    genes_of_interest=[\"TP53\"],\n",
    "    dependency_data=crispr_effect,\n",
    "    cnv_data=cnv_data,\n",
    "    mutation_data=scrambled_mutation_data,\n",
    "    candidate_models=list(crispr_effect.columns),\n",
    "    search_mode=\"lof\",\n",
    "    n_iterations=100,\n",
    "    eval_function=genome_proximity_bias_score,\n",
    "    eval_kwargs={\"n_samples\": 500, \"n_trials\": 200, \"return_samples\": False},\n",
    "    n_workers=4,\n",
    ")"
   ]
  },
  {
   "cell_type": "code",
   "execution_count": 23,
   "metadata": {},
   "outputs": [
    {
     "data": {
      "text/html": [
       "<div>\n",
       "<style scoped>\n",
       "    .dataframe tbody tr th:only-of-type {\n",
       "        vertical-align: middle;\n",
       "    }\n",
       "\n",
       "    .dataframe tbody tr th {\n",
       "        vertical-align: top;\n",
       "    }\n",
       "\n",
       "    .dataframe thead th {\n",
       "        text-align: right;\n",
       "    }\n",
       "</style>\n",
       "<table border=\"1\" class=\"dataframe\">\n",
       "  <thead>\n",
       "    <tr style=\"text-align: right;\">\n",
       "      <th></th>\n",
       "      <th>gene</th>\n",
       "      <th>t_stat</th>\n",
       "      <th>p_value</th>\n",
       "    </tr>\n",
       "  </thead>\n",
       "  <tbody>\n",
       "    <tr>\n",
       "      <th>0</th>\n",
       "      <td>TP53</td>\n",
       "      <td>-8.004021</td>\n",
       "      <td>9.998850e-14</td>\n",
       "    </tr>\n",
       "  </tbody>\n",
       "</table>\n",
       "</div>"
      ],
      "text/plain": [
       "   gene    t_stat       p_value\n",
       "0  TP53 -8.004021  9.998850e-14"
      ]
     },
     "execution_count": 23,
     "metadata": {},
     "output_type": "execute_result"
    }
   ],
   "source": [
    "null_ttest=perform_t_test(scrambled_res)\n",
    "null_ttest"
   ]
  }
 ],
 "metadata": {
  "kernelspec": {
   "display_name": "proxbias",
   "language": "python",
   "name": "proxbias"
  },
  "language_info": {
   "codemirror_mode": {
    "name": "ipython",
    "version": 3
   },
   "file_extension": ".py",
   "mimetype": "text/x-python",
   "name": "python",
   "nbconvert_exporter": "python",
   "pygments_lexer": "ipython3",
   "version": "3.12.3"
  }
 },
 "nbformat": 4,
 "nbformat_minor": 2
}
