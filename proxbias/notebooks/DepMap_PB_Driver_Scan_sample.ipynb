{
 "cells": [
  {
   "cell_type": "code",
   "execution_count": 1,
   "metadata": {},
   "outputs": [],
   "source": [
    "from proxbias.depmap.process import compute_monte_carlo_stats\n",
    "from proxbias.depmap.load import get_depmap_data\n",
    "from proxbias.utils.data_utils import get_cancer_gene_lists\n",
    "from proxbias.metrics import genome_proximity_bias_score"
   ]
  },
  {
   "cell_type": "code",
   "execution_count": 2,
   "metadata": {},
   "outputs": [
    {
     "name": "stdout",
     "output_type": "stream",
     "text": [
      "CRISPRGeneEffect.csv from DepMap Public 22Q4 is found. Reading dataframe from cache.\n",
      "Done!\n",
      "OmicsCNGene.csv from DepMap Public 22Q4 is found. Reading dataframe from cache.\n",
      "Done!\n",
      "OmicsSomaticMutations.csv from DepMap Public 22Q4 is found. Reading dataframe from cache.\n",
      "Done!\n"
     ]
    }
   ],
   "source": [
    "crispr_effect, _, cnv_data, mutation_data = get_depmap_data(rnai_release=\"\")\n",
    "oncogenes, tsgs = get_cancer_gene_lists(crispr_effect.index)"
   ]
  },
  {
   "cell_type": "code",
   "execution_count": 3,
   "metadata": {},
   "outputs": [
    {
     "name": "stdout",
     "output_type": "stream",
     "text": [
      "Stats for TP53 computed in 181.38685202598572 - diff is 0.025881591000000204, 247 wt and 344 lof\n",
      "CPU times: user 292 ms, sys: 167 ms, total: 459 ms\n",
      "Wall time: 3min 3s\n"
     ]
    }
   ],
   "source": [
    "%%time\n",
    "# Note - n_workers should likely be around half the number of CPUs\n",
    "res = compute_monte_carlo_stats(\n",
    "    genes_of_interest=[\"TP53\"],\n",
    "    dependency_data=crispr_effect,\n",
    "    cnv_data=cnv_data,\n",
    "    mutation_data=mutation_data,\n",
    "    candidate_models=list(crispr_effect.columns),\n",
    "    search_mode=\"lof\",\n",
    "    n_iterations=100,\n",
    "    eval_function=genome_proximity_bias_score,\n",
    "    eval_kwargs={\"n_samples\": 500, \"n_trials\": 200, \"return_samples\": False},\n",
    "    n_workers=4,\n",
    ")"
   ]
  }
 ],
 "metadata": {
  "kernelspec": {
   "display_name": "proxbias",
   "language": "python",
   "name": "proxbias"
  },
  "language_info": {
   "codemirror_mode": {
    "name": "ipython",
    "version": 3
   },
   "file_extension": ".py",
   "mimetype": "text/x-python",
   "name": "python",
   "nbconvert_exporter": "python",
   "pygments_lexer": "ipython3",
   "version": "3.12.3"
  }
 },
 "nbformat": 4,
 "nbformat_minor": 2
}
